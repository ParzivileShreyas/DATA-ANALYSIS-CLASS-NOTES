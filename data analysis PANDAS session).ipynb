{
  "metadata": {
    "language_info": {
      "codemirror_mode": {
        "name": "python",
        "version": 3
      },
      "file_extension": ".py",
      "mimetype": "text/x-python",
      "name": "python",
      "nbconvert_exporter": "python",
      "pygments_lexer": "ipython3",
      "version": "3.8"
    },
    "kernelspec": {
      "name": "python",
      "display_name": "Pyolite",
      "language": "python"
    }
  },
  "nbformat_minor": 4,
  "nbformat": 4,
  "cells": [
    {
      "cell_type": "markdown",
      "source": "## 1. Write a Pandas program to create and display a one-dimensional array-like object containing an array of data using Pandas module.",
      "metadata": {}
    },
    {
      "cell_type": "code",
      "source": "import pandas as pd\nds = pd.Series([2, 4, 6, 8, 10])\nprint(ds)",
      "metadata": {
        "trusted": true
      },
      "execution_count": 3,
      "outputs": [
        {
          "name": "stdout",
          "text": "0     2\n1     4\n2     6\n3     8\n4    10\ndtype: int64\n",
          "output_type": "stream"
        }
      ]
    },
    {
      "cell_type": "markdown",
      "source": "## 2. Write a Pandas program to convert a Panda module Series to Python list and its type",
      "metadata": {}
    },
    {
      "cell_type": "code",
      "source": "import pandas as pd\nds = pd.Series([2, 4, 6, 8, 10])\nprint(\"Pandas Series and type\")\nprint(ds)\nprint(type(ds))\nprint(\"Convert Pandas Series to Python list\")\nprint(ds.tolist())\nprint(type(ds.tolist()))",
      "metadata": {
        "trusted": true
      },
      "execution_count": 4,
      "outputs": [
        {
          "name": "stdout",
          "text": "Pandas Series and type\n0     2\n1     4\n2     6\n3     8\n4    10\ndtype: int64\n<class 'pandas.core.series.Series'>\nConvert Pandas Series to Python list\n[2, 4, 6, 8, 10]\n<class 'list'>\n",
          "output_type": "stream"
        }
      ]
    },
    {
      "cell_type": "markdown",
      "source": "## 3. Write a Pandas program to add, subtract, multiple and divide two Pandas Series.  Sample Series: [2, 4, 6, 8, 10], [1, 3, 5, 7, 9]",
      "metadata": {}
    },
    {
      "cell_type": "code",
      "source": "import pandas as pd\nds1 = pd.Series([2, 4, 6, 8, 10])\nds2 = pd.Series([1, 3, 5, 7, 9])\nds = ds1 + ds2\nprint(\"Add two Series:\")\nprint(ds)\nprint(\"Subtract two Series:\")\nds = ds1 - ds2\nprint(ds)\nprint(\"Multiply two Series:\")\nds = ds1 * ds2\nprint(ds)\nprint(\"Divide Series1 by Series2:\")\nds = ds1 / ds2\nprint(ds)",
      "metadata": {
        "trusted": true
      },
      "execution_count": 5,
      "outputs": [
        {
          "name": "stdout",
          "text": "Add two Series:\n0     3\n1     7\n2    11\n3    15\n4    19\ndtype: int64\nSubtract two Series:\n0    1\n1    1\n2    1\n3    1\n4    1\ndtype: int64\nMultiply two Series:\n0     2\n1    12\n2    30\n3    56\n4    90\ndtype: int64\nDivide Series1 by Series2:\n0    2.000000\n1    1.333333\n2    1.200000\n3    1.142857\n4    1.111111\ndtype: float64\n",
          "output_type": "stream"
        }
      ]
    },
    {
      "cell_type": "markdown",
      "source": "## 4. Write a Pandas program to compare the elements of the two Pandas Series. Sample Series: [2, 4, 6, 8, 10], [1, 3, 5, 7, 10]",
      "metadata": {}
    },
    {
      "cell_type": "code",
      "source": "import pandas as pd\nds1 = pd.Series([2, 4, 6, 8, 10])\nds2 = pd.Series([1, 3, 5, 7, 10])\nprint(\"Series1:\")\nprint(ds1)\nprint(\"Series2:\")\nprint(ds2)\nprint(\"Compare the elements of the said Series:\")\nprint(\"Equals:\")\nprint(ds1 == ds2)\nprint(\"Greater than:\")\nprint(ds1 > ds2)\nprint(\"Less than:\")\nprint(ds1 < ds2)",
      "metadata": {
        "trusted": true
      },
      "execution_count": 6,
      "outputs": [
        {
          "name": "stdout",
          "text": "Series1:\n0     2\n1     4\n2     6\n3     8\n4    10\ndtype: int64\nSeries2:\n0     1\n1     3\n2     5\n3     7\n4    10\ndtype: int64\nCompare the elements of the said Series:\nEquals:\n0    False\n1    False\n2    False\n3    False\n4     True\ndtype: bool\nGreater than:\n0     True\n1     True\n2     True\n3     True\n4    False\ndtype: bool\nLess than:\n0    False\n1    False\n2    False\n3    False\n4    False\ndtype: bool\n",
          "output_type": "stream"
        }
      ]
    },
    {
      "cell_type": "markdown",
      "source": "## 5. Write a Pandas program to convert a dictionary to a Pandas series.",
      "metadata": {}
    },
    {
      "cell_type": "code",
      "source": "import pandas as pd\nd1 = {'a': 100, 'b': 200, 'c':300, 'd':400, 'e':800}\nprint(\"Original dictionary:\")\nprint(d1)\nnew_series = pd.Series(d1)\nprint(\"Converted series:\")\nprint(new_series)",
      "metadata": {
        "trusted": true
      },
      "execution_count": 7,
      "outputs": [
        {
          "name": "stdout",
          "text": "Original dictionary:\n{'a': 100, 'b': 200, 'c': 300, 'd': 400, 'e': 800}\nConverted series:\na    100\nb    200\nc    300\nd    400\ne    800\ndtype: int64\n",
          "output_type": "stream"
        }
      ]
    },
    {
      "cell_type": "markdown",
      "source": "## 6. Write a Pandas program to convert a NumPy array to a Pandas series.",
      "metadata": {}
    },
    {
      "cell_type": "code",
      "source": "import numpy as np\nimport pandas as pd\nnp_array = np.array([10, 20, 30, 40, 50])\nprint(\"NumPy array:\")\nprint(np_array)\nnew_series = pd.Series(np_array)\nprint(\"Converted Pandas series:\")\nprint(new_series)",
      "metadata": {
        "trusted": true
      },
      "execution_count": 8,
      "outputs": [
        {
          "name": "stdout",
          "text": "NumPy array:\n[10 20 30 40 50]\nConverted Pandas series:\n0    10\n1    20\n2    30\n3    40\n4    50\ndtype: int32\n",
          "output_type": "stream"
        }
      ]
    },
    {
      "cell_type": "markdown",
      "source": "## 7. Write a Pandas program to change the data type of given a column or a Series.",
      "metadata": {}
    },
    {
      "cell_type": "code",
      "source": "import pandas as pd\ns1 = pd.Series(['100', '200', 'python', '300.12', '400'])\nprint(\"Original Data Series:\")\nprint(s1)\nprint(\"Change the said data type to numeric:\")\ns2 = pd.to_numeric(s1, errors='coerce')\nprint(s2)",
      "metadata": {
        "trusted": true
      },
      "execution_count": 9,
      "outputs": [
        {
          "name": "stdout",
          "text": "Original Data Series:\n0       100\n1       200\n2    python\n3    300.12\n4       400\ndtype: object\nChange the said data type to numeric:\n0    100.00\n1    200.00\n2       NaN\n3    300.12\n4    400.00\ndtype: float64\n",
          "output_type": "stream"
        }
      ]
    },
    {
      "cell_type": "markdown",
      "source": "## 8. Write a Pandas program to convert the first column of a DataFrame as a Series.",
      "metadata": {}
    },
    {
      "cell_type": "code",
      "source": "import pandas as pd\nd = {'col1': [1, 2, 3, 4, 7, 11], 'col2': [4, 5, 6, 9, 5, 0], 'col3': [7, 5, 8, 12, 1,11]}\ndf = pd.DataFrame(data=d)\nprint(\"Original DataFrame\")\nprint(df)\ns1 = df.ilo[:,0]\nprint(\"\\n1st column as a Series:\")\nprint(s1)\nprint(type(s1))",
      "metadata": {
        "trusted": true
      },
      "execution_count": 11,
      "outputs": [
        {
          "name": "stdout",
          "text": "Original DataFrame\n   col1  col2  col3\n0     1     4     7\n1     2     5     5\n2     3     6     8\n3     4     9    12\n4     7     5     1\n5    11     0    11\n",
          "output_type": "stream"
        },
        {
          "ename": "<class 'AttributeError'>",
          "evalue": "'DataFrame' object has no attribute 'ix'",
          "traceback": [
            "\u001b[0;31m---------------------------------------------------------------------------\u001b[0m",
            "\u001b[0;31mAttributeError\u001b[0m                            Traceback (most recent call last)",
            "Input \u001b[0;32mIn [11]\u001b[0m, in \u001b[0;36m<cell line: 6>\u001b[0;34m()\u001b[0m\n\u001b[1;32m      4\u001b[0m \u001b[38;5;28mprint\u001b[39m(\u001b[38;5;124m\"\u001b[39m\u001b[38;5;124mOriginal DataFrame\u001b[39m\u001b[38;5;124m\"\u001b[39m)\n\u001b[1;32m      5\u001b[0m \u001b[38;5;28mprint\u001b[39m(df)\n\u001b[0;32m----> 6\u001b[0m s1 \u001b[38;5;241m=\u001b[39m \u001b[43mdf\u001b[49m\u001b[38;5;241;43m.\u001b[39;49m\u001b[43mix\u001b[49m[:,\u001b[38;5;241m0\u001b[39m]\n\u001b[1;32m      7\u001b[0m \u001b[38;5;28mprint\u001b[39m(\u001b[38;5;124m\"\u001b[39m\u001b[38;5;130;01m\\n\u001b[39;00m\u001b[38;5;124m1st column as a Series:\u001b[39m\u001b[38;5;124m\"\u001b[39m)\n\u001b[1;32m      8\u001b[0m \u001b[38;5;28mprint\u001b[39m(s1)\n",
            "File \u001b[0;32m/lib/python3.10/site-packages/pandas/core/generic.py:5575\u001b[0m, in \u001b[0;36mNDFrame.__getattr__\u001b[0;34m(self, name)\u001b[0m\n\u001b[1;32m   5568\u001b[0m \u001b[38;5;28;01mif\u001b[39;00m (\n\u001b[1;32m   5569\u001b[0m     name \u001b[38;5;129;01mnot\u001b[39;00m \u001b[38;5;129;01min\u001b[39;00m \u001b[38;5;28mself\u001b[39m\u001b[38;5;241m.\u001b[39m_internal_names_set\n\u001b[1;32m   5570\u001b[0m     \u001b[38;5;129;01mand\u001b[39;00m name \u001b[38;5;129;01mnot\u001b[39;00m \u001b[38;5;129;01min\u001b[39;00m \u001b[38;5;28mself\u001b[39m\u001b[38;5;241m.\u001b[39m_metadata\n\u001b[1;32m   5571\u001b[0m     \u001b[38;5;129;01mand\u001b[39;00m name \u001b[38;5;129;01mnot\u001b[39;00m \u001b[38;5;129;01min\u001b[39;00m \u001b[38;5;28mself\u001b[39m\u001b[38;5;241m.\u001b[39m_accessors\n\u001b[1;32m   5572\u001b[0m     \u001b[38;5;129;01mand\u001b[39;00m \u001b[38;5;28mself\u001b[39m\u001b[38;5;241m.\u001b[39m_info_axis\u001b[38;5;241m.\u001b[39m_can_hold_identifiers_and_holds_name(name)\n\u001b[1;32m   5573\u001b[0m ):\n\u001b[1;32m   5574\u001b[0m     \u001b[38;5;28;01mreturn\u001b[39;00m \u001b[38;5;28mself\u001b[39m[name]\n\u001b[0;32m-> 5575\u001b[0m \u001b[38;5;28;01mreturn\u001b[39;00m \u001b[38;5;28;43mobject\u001b[39;49m\u001b[38;5;241;43m.\u001b[39;49m\u001b[38;5;21;43m__getattribute__\u001b[39;49m\u001b[43m(\u001b[49m\u001b[38;5;28;43mself\u001b[39;49m\u001b[43m,\u001b[49m\u001b[43m \u001b[49m\u001b[43mname\u001b[49m\u001b[43m)\u001b[49m\n",
            "\u001b[0;31mAttributeError\u001b[0m: 'DataFrame' object has no attribute 'ix'"
          ],
          "output_type": "error"
        }
      ]
    },
    {
      "cell_type": "markdown",
      "source": "## 9. Write a Pandas program to convert a given Series to an array.",
      "metadata": {}
    },
    {
      "cell_type": "code",
      "source": "import pandas as pd\nimport numpy as np\ns1 = pd.Series(['100', '200', 'python', '300.12', '400'])\nprint(\"Original Data Series:\")\nprint(s1)\nprint(\"Series to an array\")\na = np.array(s1.values.tolist())\nprint (a)",
      "metadata": {
        "trusted": true
      },
      "execution_count": 12,
      "outputs": [
        {
          "name": "stdout",
          "text": "Original Data Series:\n0       100\n1       200\n2    python\n3    300.12\n4       400\ndtype: object\nSeries to an array\n['100' '200' 'python' '300.12' '400']\n",
          "output_type": "stream"
        }
      ]
    },
    {
      "cell_type": "markdown",
      "source": "## 10. Write a Pandas program to convert Series of lists to one Series.",
      "metadata": {}
    },
    {
      "cell_type": "code",
      "source": "import pandas as pd\ns = pd.Series([\n    ['Red', 'Green', 'White'],\n    ['Red', 'Black'],\n    ['Yellow']])\nprint(\"Original Series of list\")\nprint(s)\ns = s.apply(pd.Series).stack().reset_index(drop=True)\nprint(\"One Series\")\nprint(s)",
      "metadata": {
        "trusted": true
      },
      "execution_count": 13,
      "outputs": [
        {
          "name": "stdout",
          "text": "Original Series of list\n0    [Red, Green, White]\n1           [Red, Black]\n2               [Yellow]\ndtype: object\nOne Series\n0       Red\n1     Green\n2     White\n3       Red\n4     Black\n5    Yellow\ndtype: object\n",
          "output_type": "stream"
        }
      ]
    },
    {
      "cell_type": "markdown",
      "source": "## 11. Write a Pandas program to sort a given Series.",
      "metadata": {}
    },
    {
      "cell_type": "code",
      "source": "import pandas as pd\ns = pd.Series(['100', '200', 'python', '300.12', '400'])\nprint(\"Original Data Series:\")\nprint(s)\nnew_s = pd.Series(s).sort_values()\nprint(new_s)",
      "metadata": {
        "trusted": true
      },
      "execution_count": 14,
      "outputs": [
        {
          "name": "stdout",
          "text": "Original Data Series:\n0       100\n1       200\n2    python\n3    300.12\n4       400\ndtype: object\n0       100\n1       200\n3    300.12\n4       400\n2    python\ndtype: object\n",
          "output_type": "stream"
        }
      ]
    },
    {
      "cell_type": "markdown",
      "source": "## 12. Write a Pandas program to add some data to an existing Series.",
      "metadata": {}
    },
    {
      "cell_type": "code",
      "source": "import pandas as pd\ns = pd.Series(['100', '200', 'python', '300.12', '400'])\nprint(\"Original Data Series:\")\nprint(s)\nprint(\"\\nData Series after adding some data:\")\nnew_s = s.append(pd.Series(['500', 'php']))\nprint(new_s)",
      "metadata": {
        "trusted": true
      },
      "execution_count": 15,
      "outputs": [
        {
          "name": "stdout",
          "text": "Original Data Series:\n0       100\n1       200\n2    python\n3    300.12\n4       400\ndtype: object\n\nData Series after adding some data:\n",
          "output_type": "stream"
        },
        {
          "name": "stderr",
          "text": "<ipython-input-15-97f6ed9f83fc>:6: FutureWarning: The series.append method is deprecated and will be removed from pandas in a future version. Use pandas.concat instead.\n  new_s = s.append(pd.Series(['500', 'php']))\n",
          "output_type": "stream"
        },
        {
          "name": "stdout",
          "text": "0       100\n1       200\n2    python\n3    300.12\n4       400\n0       500\n1       php\ndtype: object\n",
          "output_type": "stream"
        }
      ]
    },
    {
      "cell_type": "markdown",
      "source": "## 13. Write a Pandas program to create a subset of a given series based on value and condition.",
      "metadata": {}
    },
    {
      "cell_type": "code",
      "source": "import pandas as pd\ns = pd.Series([0, 1,2,3,4,5,6,7,8,9,10])\nprint(\"Original Data Series:\")\nprint(s)\nprint(\"\\nSubset of the above Data Series:\")\nn = 6\nnew_s = s[s < n]\nprint(new_s)",
      "metadata": {
        "trusted": true
      },
      "execution_count": 16,
      "outputs": [
        {
          "name": "stdout",
          "text": "Original Data Series:\n0      0\n1      1\n2      2\n3      3\n4      4\n5      5\n6      6\n7      7\n8      8\n9      9\n10    10\ndtype: int64\n\nSubset of the above Data Series:\n0    0\n1    1\n2    2\n3    3\n4    4\n5    5\ndtype: int64\n",
          "output_type": "stream"
        }
      ]
    },
    {
      "cell_type": "markdown",
      "source": "## 14. Write a Pandas program to change the order of index of a given series.",
      "metadata": {}
    },
    {
      "cell_type": "code",
      "source": "",
      "metadata": {},
      "execution_count": null,
      "outputs": []
    }
  ]
}