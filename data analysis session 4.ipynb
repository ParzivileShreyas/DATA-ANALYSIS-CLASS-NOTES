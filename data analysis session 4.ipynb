{
  "metadata": {
    "language_info": {
      "codemirror_mode": {
        "name": "python",
        "version": 3
      },
      "file_extension": ".py",
      "mimetype": "text/x-python",
      "name": "python",
      "nbconvert_exporter": "python",
      "pygments_lexer": "ipython3",
      "version": "3.8"
    },
    "kernelspec": {
      "name": "python",
      "display_name": "Pyolite",
      "language": "python"
    }
  },
  "nbformat_minor": 4,
  "nbformat": 4,
  "cells": [
    {
      "cell_type": "code",
      "source": "import numpy as np\nx = np.random.random((5,5))\nx",
      "metadata": {
        "trusted": true
      },
      "execution_count": 1,
      "outputs": [
        {
          "execution_count": 1,
          "output_type": "execute_result",
          "data": {
            "text/plain": "array([[0.71011026, 0.65440588, 0.0897003 , 0.69201774, 0.78105016],\n       [0.59810665, 0.19139412, 0.54239534, 0.07333358, 0.06298097],\n       [0.94139312, 0.54687347, 0.9105085 , 0.44992148, 0.16913482],\n       [0.86726101, 0.49179171, 0.96278513, 0.2204082 , 0.72985607],\n       [0.4181178 , 0.49467991, 0.63111731, 0.58126961, 0.13284737]])"
          },
          "metadata": {}
        }
      ]
    },
    {
      "cell_type": "code",
      "source": "np.save('2d_array',x)",
      "metadata": {
        "trusted": true
      },
      "execution_count": 2,
      "outputs": []
    },
    {
      "cell_type": "code",
      "source": "loaded_array=np.load('2d_array.npy')\nloaded_array",
      "metadata": {
        "trusted": true
      },
      "execution_count": 3,
      "outputs": [
        {
          "execution_count": 3,
          "output_type": "execute_result",
          "data": {
            "text/plain": "array([[0.71011026, 0.65440588, 0.0897003 , 0.69201774, 0.78105016],\n       [0.59810665, 0.19139412, 0.54239534, 0.07333358, 0.06298097],\n       [0.94139312, 0.54687347, 0.9105085 , 0.44992148, 0.16913482],\n       [0.86726101, 0.49179171, 0.96278513, 0.2204082 , 0.72985607],\n       [0.4181178 , 0.49467991, 0.63111731, 0.58126961, 0.13284737]])"
          },
          "metadata": {}
        }
      ]
    },
    {
      "cell_type": "markdown",
      "source": "## lab program 2, create a csv file",
      "metadata": {}
    },
    {
      "cell_type": "code",
      "source": "a = np.array(\"Hrithik,Sandeep,Shreyas,Yuva,Govind,Praveen,Thivakar,Varun,Midhun,Sagar\".split(','))\nb= list(np.array(('D2,'*10).split(',')))\nmark1 =  np.random.randint(100,size=(10,))\nmark2 =  np.random.randint(100,size=(10,))\nmark3 =  np.random.randint(100,size=(10,))\nb.pop()",
      "metadata": {
        "trusted": true
      },
      "execution_count": 4,
      "outputs": [
        {
          "execution_count": 4,
          "output_type": "execute_result",
          "data": {
            "text/plain": "''"
          },
          "metadata": {}
        }
      ]
    },
    {
      "cell_type": "code",
      "source": "mark1.shape",
      "metadata": {
        "trusted": true
      },
      "execution_count": 5,
      "outputs": [
        {
          "execution_count": 5,
          "output_type": "execute_result",
          "data": {
            "text/plain": "(10,)"
          },
          "metadata": {}
        }
      ]
    },
    {
      "cell_type": "code",
      "source": "data = np.array([[a],[b],[mark1],[mark2],[mark3]])\ndata",
      "metadata": {
        "trusted": true
      },
      "execution_count": 6,
      "outputs": [
        {
          "execution_count": 6,
          "output_type": "execute_result",
          "data": {
            "text/plain": "array([[['Hrithik', 'Sandeep', 'Shreyas', 'Yuva', 'Govind', 'Praveen',\n         'Thivakar', 'Varun', 'Midhun', 'Sagar']],\n\n       [['D2', 'D2', 'D2', 'D2', 'D2', 'D2', 'D2', 'D2', 'D2', 'D2']],\n\n       [['60', '33', '84', '50', '43', '32', '95', '29', '90', '27']],\n\n       [['18', '46', '74', '75', '24', '49', '89', '38', '64', '79']],\n\n       [['43', '19', '65', '44', '67', '79', '91', '3', '85', '88']]],\n      dtype='<U11')"
          },
          "metadata": {}
        }
      ]
    },
    {
      "cell_type": "code",
      "source": "data.shape",
      "metadata": {
        "trusted": true
      },
      "execution_count": 7,
      "outputs": [
        {
          "execution_count": 7,
          "output_type": "execute_result",
          "data": {
            "text/plain": "(5, 1, 10)"
          },
          "metadata": {}
        }
      ]
    },
    {
      "cell_type": "code",
      "source": "data_n = data.reshape(5,10)\ndata_n.T",
      "metadata": {
        "trusted": true
      },
      "execution_count": 8,
      "outputs": [
        {
          "execution_count": 8,
          "output_type": "execute_result",
          "data": {
            "text/plain": "array([['Hrithik', 'D2', '60', '18', '43'],\n       ['Sandeep', 'D2', '33', '46', '19'],\n       ['Shreyas', 'D2', '84', '74', '65'],\n       ['Yuva', 'D2', '50', '75', '44'],\n       ['Govind', 'D2', '43', '24', '67'],\n       ['Praveen', 'D2', '32', '49', '79'],\n       ['Thivakar', 'D2', '95', '89', '91'],\n       ['Varun', 'D2', '29', '38', '3'],\n       ['Midhun', 'D2', '90', '64', '85'],\n       ['Sagar', 'D2', '27', '79', '88']], dtype='<U11')"
          },
          "metadata": {}
        }
      ]
    },
    {
      "cell_type": "code",
      "source": "csv_rows = [\"{},{},{},{},{}\".format(i, j, k,m,n) for i, j, k, m, n in data_n.T]\ncsv_text = \"\\n\".join(csv_rows)\n\nwith open('sample.csv', 'w') as f:\n    f.write(csv_text)\n    f.close",
      "metadata": {
        "trusted": true
      },
      "execution_count": 9,
      "outputs": []
    },
    {
      "cell_type": "markdown",
      "source": "## lab program 3, load the demo.csv file content into numpy array",
      "metadata": {}
    },
    {
      "cell_type": "code",
      "source": "with open('sample.csv','r') as f:\n    txt  = f.readlines()",
      "metadata": {
        "trusted": true
      },
      "execution_count": 10,
      "outputs": []
    },
    {
      "cell_type": "code",
      "source": "data = np.genfromtxt('sample.csv',delimiter=\",\",skip_header=True,dtype =str)\ndata",
      "metadata": {
        "trusted": true
      },
      "execution_count": 11,
      "outputs": [
        {
          "execution_count": 11,
          "output_type": "execute_result",
          "data": {
            "text/plain": "array([['Sandeep', 'D2', '33', '46', '19'],\n       ['Shreyas', 'D2', '84', '74', '65'],\n       ['Yuva', 'D2', '50', '75', '44'],\n       ['Govind', 'D2', '43', '24', '67'],\n       ['Praveen', 'D2', '32', '49', '79'],\n       ['Thivakar', 'D2', '95', '89', '91'],\n       ['Varun', 'D2', '29', '38', '3'],\n       ['Midhun', 'D2', '90', '64', '85'],\n       ['Sagar', 'D2', '27', '79', '88']], dtype='<U8')"
          },
          "metadata": {}
        }
      ]
    },
    {
      "cell_type": "code",
      "source": "",
      "metadata": {},
      "execution_count": null,
      "outputs": []
    }
  ]
}